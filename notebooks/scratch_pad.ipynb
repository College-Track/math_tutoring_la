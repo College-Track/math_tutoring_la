{
 "cells": [
  {
   "cell_type": "markdown",
   "metadata": {},
   "source": [
    "## math_tutoring_2020\n",
    "\n",
    "Project to determine the impact math and tutoring workshops have on student outcomes.\n",
    "\n",
    "### Data Sources\n",
    "- file1 : Link to SF Report\n",
    "- file2:  Link to SF Report (As Needed)\n",
    "- file3:  Link to SF Report (As Needed)\n",
    "\n",
    "### Changes\n",
    "- 10-07-2020 : Started project"
   ]
  },
  {
   "cell_type": "code",
   "execution_count": 104,
   "metadata": {},
   "outputs": [
    {
     "name": "stdout",
     "output_type": "stream",
     "text": [
      "The dotenv extension is already loaded. To reload it, use:\n",
      "  %reload_ext dotenv\n",
      "cannot find .env file\n"
     ]
    }
   ],
   "source": [
    "# ALWAYS RUN\n",
    "# General Setup \n",
    "\n",
    "%load_ext dotenv\n",
    "%dotenv\n",
    "\n",
    "import pandas as pd\n",
    "from pathlib import Path\n",
    "from datetime import datetime\n",
    "import os\n",
    "import numpy as np\n"
   ]
  },
  {
   "cell_type": "code",
   "execution_count": 105,
   "metadata": {},
   "outputs": [],
   "source": [
    "\n",
    "project_id = \"learning-agendas\"\n",
    "\n"
   ]
  },
  {
   "cell_type": "code",
   "execution_count": 106,
   "metadata": {},
   "outputs": [],
   "source": [
    "\n",
    "# Download data and save to a CSV. If data needs to be refreshed the CSV needs to be deleted.\n",
    "filename = '../data/raw/test_attendance_data.csv'\n",
    "table_name = 'gathered_test_attendance_at_data'\n",
    "\n",
    "if os.path.exists(filename):\n",
    "    # Read from CSV if already written to avoid repeatedly transferring data from BigQuery\n",
    "    df = pd.read_csv(filename)\n",
    "    df = df.drop('Unnamed: 0', axis=1)\n",
    "else:      \n",
    "    query = 'SELECT * FROM `learning-agendas.math_tutoring_2020.' + table_name + '`'\n",
    "    df = pd.read_gbq(query, project_id=project_id)\n",
    "    df.to_csv(filename)"
   ]
  },
  {
   "cell_type": "code",
   "execution_count": 107,
   "metadata": {},
   "outputs": [],
   "source": [
    "# print((df.notnull().sum()/df.shape[0]).sort_values(ascending=False).to_string())\n",
    "# (df.notnull().sum()/df.shape[0]).hist()"
   ]
  },
  {
   "cell_type": "code",
   "execution_count": 108,
   "metadata": {},
   "outputs": [],
   "source": [
    "# df.mod_dosage_type.value_counts()"
   ]
  },
  {
   "cell_type": "code",
   "execution_count": 109,
   "metadata": {},
   "outputs": [],
   "source": [
    "sat_to_act_math = pd.read_csv('../data/raw/sat_to_act_math.csv')\n",
    "sat_to_act_english_reading = pd.read_csv('../data/raw/sat_to_act_english_reading.csv')"
   ]
  },
  {
   "cell_type": "code",
   "execution_count": 110,
   "metadata": {},
   "outputs": [],
   "source": [
    "def convert_sat_to_act(sat_score, conversion_file, act_score):\n",
    "\n",
    "    try: \n",
    "        conversion_score = conversion_file[sat_score >= conversion_file.SAT].reset_index().iloc[0]['ACT']\n",
    "        if pd.isna(act_score):\n",
    "            return conversion_score\n",
    "        elif conversion_score >= act_score:\n",
    "            return conversion_score\n",
    "        else:\n",
    "            return act_score\n",
    "    except:\n",
    "        return act_score\n",
    "     "
   ]
  },
  {
   "cell_type": "code",
   "execution_count": 111,
   "metadata": {},
   "outputs": [],
   "source": [
    "df[\"max_converted_math\"] = df.apply(lambda x: convert_sat_to_act(\n",
    "    x['max_sat_math'], sat_to_act_math, x['max_act_math']), axis=1)\n"
   ]
  },
  {
   "cell_type": "code",
   "execution_count": 112,
   "metadata": {},
   "outputs": [],
   "source": [
    "df[\"max_converted_english_reading\"] = df.apply(lambda x: convert_sat_to_act(\n",
    "    x['max_sat_english'], sat_to_act_english_reading, x['max_act_english_reading']), axis=1)\n"
   ]
  },
  {
   "cell_type": "code",
   "execution_count": 113,
   "metadata": {},
   "outputs": [],
   "source": [
    "df[\"max_converted_english\"] = df.apply(lambda x: convert_sat_to_act(\n",
    "    x['max_sat_english'], sat_to_act_math, x['max_act_english']), axis=1)\n"
   ]
  },
  {
   "cell_type": "code",
   "execution_count": 114,
   "metadata": {},
   "outputs": [],
   "source": [
    "df[\"max_converted_reading\"] = df.apply(lambda x: convert_sat_to_act(\n",
    "    x['max_sat_english'], sat_to_act_math, x['max_act_reading']), axis=1)\n"
   ]
  },
  {
   "cell_type": "code",
   "execution_count": 115,
   "metadata": {},
   "outputs": [],
   "source": [
    "df.loc[pd.isna(df.mod_duration), \"mod_duration_filled\"] = df.loc[pd.isna(\n",
    "    df.mod_duration), \"Attendance_Numerator\"] * 60"
   ]
  },
  {
   "cell_type": "code",
   "execution_count": 116,
   "metadata": {},
   "outputs": [],
   "source": [
    "df.loc[~pd.isna(df.mod_duration), \"mod_duration_filled\"] = df.loc[~pd.isna(df.mod_duration), \"mod_duration\"]"
   ]
  },
  {
   "cell_type": "code",
   "execution_count": 117,
   "metadata": {},
   "outputs": [],
   "source": [
    "df.to_pickle(\"../data/interim/data_converted.pkl\")"
   ]
  },
  {
   "cell_type": "code",
   "execution_count": 320,
   "metadata": {},
   "outputs": [],
   "source": [
    "df = pd.read_pickle(\"../data/interim/data_converted.pkl\")"
   ]
  },
  {
   "cell_type": "code",
   "execution_count": 322,
   "metadata": {},
   "outputs": [],
   "source": [
    "def create_year_to_year_df(df, grades_num):\n",
    "    grades = [str(i) + \"th Grade\" for i in grades_num]\n",
    "\n",
    "    columns_to_check = [\"attendance_rate_\" + str(grades_num[0]) + \"th Grade_Math Blast\", \"attendance_rate_\" + str(\n",
    "        grades_num[0]) + \"th Grade_Tutoring\", \"attendance_rate_\" + str(grades_num[0]) + \"th Grade_Math\"]\n",
    "\n",
    "    _df = df[(df.AT_Grade__c.isin(grades))]\n",
    "\n",
    "    _df = _df[~_df.ay_spring_status.isin(\n",
    "        [\"Did Not Finish CT HS Program\", \"Prior to joining CT HS Program\"])]\n",
    "\n",
    "    _df_academics = _df[_df.AT_Grade__c == grades[1]][\n",
    "        ['Contact_Id',\n",
    "         'site_short',\n",
    "         'AT_Grade__c',\n",
    "         'GPA_semester_cumulative__c',\n",
    "         'HS_11th_Cum_GPA',\n",
    "         'max_converted_math',\n",
    "         'max_converted_english_reading',\n",
    "         'max_converted_english',\n",
    "         'max_converted_reading',\n",
    "         'first_gpa',\n",
    "         'gpa_growth',\n",
    "         'first_gpa_grade',\n",
    "         \"highest_math_score\",\n",
    "         \"first_math_score\",\n",
    "         'highest_math_score_grade',\n",
    "         'math_test_growth',\n",
    "         \"first_math_grade\"\n",
    "         ]\n",
    "    ].groupby(\n",
    "        ['Contact_Id', 'site_short', 'AT_Grade__c', 'first_gpa', 'HS_11th_Cum_GPA']).max().unstack('AT_Grade__c')\n",
    "\n",
    "    _df_worksops = _df[_df.AT_Grade__c == grades[0]][['Contact_Id', 'site_short', 'AT_Grade__c', 'mod_dosage_type', 'Attendance_Numerator',\n",
    "                                                      'attendance_rate', 'mod_duration_filled']].groupby(['Contact_Id', 'AT_Grade__c', 'mod_dosage_type']).sum().unstack(['AT_Grade__c', 'mod_dosage_type'])\n",
    "\n",
    "    _df_academics = rename_df_columns(_df_academics)\n",
    "\n",
    "    _df_worksops = rename_df_columns(_df_worksops)\n",
    "\n",
    "    combined_df = _df_academics.merge(\n",
    "        _df_worksops, left_index=True, right_index=True, how='left')\n",
    "\n",
    "    combined_df.dropna(subset=columns_to_check, how='all', inplace=True)\n",
    "    combined_df.columns = combined_df.columns.str.replace(' ', '_')\n",
    "    return combined_df.reset_index()"
   ]
  },
  {
   "cell_type": "code",
   "execution_count": 323,
   "metadata": {},
   "outputs": [],
   "source": [
    "def rename_df_columns(_df):\n",
    "    _df.columns = _df.columns.to_flat_index()\n",
    "    \n",
    "    new_col_names = ['_'.join(i) for i in _df.columns]\n",
    "\n",
    "    _df.columns = new_col_names\n",
    "    return _df"
   ]
  },
  {
   "cell_type": "code",
   "execution_count": 324,
   "metadata": {},
   "outputs": [],
   "source": [
    "df = df.sort_values(['Contact_Id','AY_Name'], ascending=True)\n"
   ]
  },
  {
   "cell_type": "code",
   "execution_count": 325,
   "metadata": {},
   "outputs": [],
   "source": [
    "first_gpa = df[['Contact_Id', 'GPA_semester_cumulative__c', \"AT_Grade__c\"]].groupby(\n",
    "    'Contact_Id', as_index=False).first(numeric_only=False)\n",
    "\n",
    "first_gpa.rename(columns={'GPA_semester_cumulative__c': 'first_gpa',\n",
    "                          \"AT_Grade__c\": \"first_gpa_grade\"}, inplace=True)"
   ]
  },
  {
   "cell_type": "code",
   "execution_count": 326,
   "metadata": {},
   "outputs": [],
   "source": [
    "first_math_test = df[['Contact_Id', 'max_converted_math', \"AT_Grade__c\"]].groupby(\n",
    "    'Contact_Id', as_index=False).first(numeric_only=False)\n",
    "\n",
    "first_math_test.rename(columns={'max_converted_math': 'first_math_score',\n",
    "                          \"AT_Grade__c\": \"first_math_grade\"}, inplace=True)"
   ]
  },
  {
   "cell_type": "code",
   "execution_count": 327,
   "metadata": {},
   "outputs": [],
   "source": [
    "max_math_test = df[['Contact_Id', 'max_converted_math', \"AT_Grade__c\"]].groupby(\n",
    "    'Contact_Id', as_index=False).max()\n",
    "\n",
    "max_math_test.rename(columns={'max_converted_math': 'highest_math_score',\n",
    "                          \"AT_Grade__c\": \"highest_math_score_grade\"}, inplace=True)"
   ]
  },
  {
   "cell_type": "code",
   "execution_count": 328,
   "metadata": {},
   "outputs": [],
   "source": [
    "df = df.merge(first_gpa, on='Contact_Id')\n"
   ]
  },
  {
   "cell_type": "code",
   "execution_count": 329,
   "metadata": {},
   "outputs": [],
   "source": [
    "df = df.merge(first_math_test, on='Contact_Id')"
   ]
  },
  {
   "cell_type": "code",
   "execution_count": 330,
   "metadata": {},
   "outputs": [],
   "source": [
    "df = df.merge(max_math_test, on='Contact_Id')"
   ]
  },
  {
   "cell_type": "code",
   "execution_count": 331,
   "metadata": {},
   "outputs": [],
   "source": [
    "df['gpa_growth'] = df.HS_11th_Cum_GPA - df.first_gpa "
   ]
  },
  {
   "cell_type": "code",
   "execution_count": 332,
   "metadata": {},
   "outputs": [],
   "source": [
    "df['math_test_growth'] = df.highest_math_score - df.first_math_score "
   ]
  },
  {
   "cell_type": "code",
   "execution_count": 333,
   "metadata": {},
   "outputs": [],
   "source": [
    "df.columns =  df.columns.str.replace(' ', '_')"
   ]
  },
  {
   "cell_type": "code",
   "execution_count": 334,
   "metadata": {},
   "outputs": [],
   "source": [
    "ninth_grade = create_year_to_year_df(df, [9, 10])"
   ]
  },
  {
   "cell_type": "code",
   "execution_count": 337,
   "metadata": {},
   "outputs": [],
   "source": [
    "tenth_grade = create_year_to_year_df(df, [10, 11])"
   ]
  },
  {
   "cell_type": "code",
   "execution_count": 338,
   "metadata": {},
   "outputs": [],
   "source": [
    "eleventh_grade = create_year_to_year_df(df, [11, 12])"
   ]
  },
  {
   "cell_type": "code",
   "execution_count": 348,
   "metadata": {},
   "outputs": [],
   "source": [
    "overall_df_prep = df[~df.ay_spring_status.isin(\n",
    "        [\"Did Not Finish CT HS Program\", \"Prior to joining CT HS Program\"])]\n",
    "\n",
    "overall_df_prep= overall_df_prep[overall_df_prep.AT_Grade__c != \"12th Grade\"]"
   ]
  },
  {
   "cell_type": "code",
   "execution_count": 349,
   "metadata": {},
   "outputs": [],
   "source": [
    "overall_df_prep_grouped = overall_df_prep.groupby(['Contact_Id', 'site_short', 'mod_dosage_type']).agg(\n",
    "    {'HS_11th_Cum_GPA': 'max', \n",
    "     'Attendance_Numerator': 'sum',\n",
    "     'Attendance_Denominator': 'sum',\n",
    "     'mod_duration_filled': 'sum',\n",
    "     'max_converted_math': 'max',\n",
    "     'max_converted_english_reading': 'max',\n",
    "     'max_converted_english': 'max',\n",
    "     'max_converted_reading': 'max'\n",
    "    }\n",
    ").reset_index()\n",
    "\n",
    "overall_df_prep_grouped['attendance_rate'] = overall_df_prep_grouped.Attendance_Numerator / overall_df_prep_grouped.Attendance_Denominator"
   ]
  },
  {
   "cell_type": "code",
   "execution_count": 350,
   "metadata": {},
   "outputs": [],
   "source": [
    "overall_workshops = overall_df_prep_grouped[[\"Contact_Id\", \"site_short\", \"mod_dosage_type\", \"Attendance_Numerator\", \"attendance_rate\", \"mod_duration_filled\"]].groupby(\n",
    "        ['Contact_Id', 'site_short', 'mod_dosage_type']).max().unstack('mod_dosage_type')\n",
    "\n",
    "overall_workshops = rename_df_columns(overall_workshops)"
   ]
  },
  {
   "cell_type": "code",
   "execution_count": 351,
   "metadata": {},
   "outputs": [],
   "source": [
    "overall_df_academics = overall_df_prep[\n",
    "    ['Contact_Id',\n",
    "     \"High_School_Class__c\",\n",
    "     \"HS_11th_Cum_GPA\",\n",
    "     \"max_converted_math\",\n",
    "     \"max_converted_english_reading\",\n",
    "     \"max_converted_english\",\n",
    "     \"first_gpa\",\n",
    "     'gpa_growth',\n",
    "     'first_gpa_grade',\n",
    "     \"highest_math_score\",\n",
    "     \"first_math_score\",\n",
    "     'highest_math_score_grade',\n",
    "     'first_math_grade',\n",
    "     'math_test_growth']\n",
    "].groupby(\"Contact_Id\").max()"
   ]
  },
  {
   "cell_type": "code",
   "execution_count": 352,
   "metadata": {},
   "outputs": [],
   "source": [
    "overall_df_final = overall_df_academics.merge(\n",
    "    overall_workshops, left_index=True, right_index=True, how='left')"
   ]
  },
  {
   "cell_type": "code",
   "execution_count": 353,
   "metadata": {},
   "outputs": [],
   "source": [
    "overall_df_final.reset_index(inplace=True)\n",
    "overall_df_final.columns =  overall_df_final.columns.str.replace(' ', '_')"
   ]
  },
  {
   "cell_type": "code",
   "execution_count": 354,
   "metadata": {},
   "outputs": [],
   "source": [
    "overall_df_final.dropna(subset=['attendance_rate_Tutoring', 'attendance_rate_Math',\n",
    "                                'Attendance_Numerator_Math_Blast'], how='all', inplace=True)"
   ]
  },
  {
   "cell_type": "code",
   "execution_count": 355,
   "metadata": {},
   "outputs": [],
   "source": [
    "overall_df_final = overall_df_final[overall_df_final.HS_11th_Cum_GPA > 0 ]"
   ]
  },
  {
   "cell_type": "code",
   "execution_count": 357,
   "metadata": {},
   "outputs": [
    {
     "data": {
      "text/html": [
       "<div>\n",
       "<style scoped>\n",
       "    .dataframe tbody tr th:only-of-type {\n",
       "        vertical-align: middle;\n",
       "    }\n",
       "\n",
       "    .dataframe tbody tr th {\n",
       "        vertical-align: top;\n",
       "    }\n",
       "\n",
       "    .dataframe thead th {\n",
       "        text-align: right;\n",
       "    }\n",
       "</style>\n",
       "<table border=\"1\" class=\"dataframe\">\n",
       "  <thead>\n",
       "    <tr style=\"text-align: right;\">\n",
       "      <th></th>\n",
       "      <th>highest_math_score</th>\n",
       "      <th>first_math_score</th>\n",
       "      <th>first_math_grade</th>\n",
       "    </tr>\n",
       "  </thead>\n",
       "  <tbody>\n",
       "    <tr>\n",
       "      <th>5</th>\n",
       "      <td>14.0</td>\n",
       "      <td>14.0</td>\n",
       "      <td>11th Grade</td>\n",
       "    </tr>\n",
       "    <tr>\n",
       "      <th>14</th>\n",
       "      <td>15.0</td>\n",
       "      <td>15.0</td>\n",
       "      <td>10th Grade</td>\n",
       "    </tr>\n",
       "    <tr>\n",
       "      <th>15</th>\n",
       "      <td>15.0</td>\n",
       "      <td>15.0</td>\n",
       "      <td>10th Grade</td>\n",
       "    </tr>\n",
       "    <tr>\n",
       "      <th>16</th>\n",
       "      <td>15.0</td>\n",
       "      <td>15.0</td>\n",
       "      <td>10th Grade</td>\n",
       "    </tr>\n",
       "    <tr>\n",
       "      <th>17</th>\n",
       "      <td>15.0</td>\n",
       "      <td>13.0</td>\n",
       "      <td>10th Grade</td>\n",
       "    </tr>\n",
       "    <tr>\n",
       "      <th>...</th>\n",
       "      <td>...</td>\n",
       "      <td>...</td>\n",
       "      <td>...</td>\n",
       "    </tr>\n",
       "    <tr>\n",
       "      <th>2955</th>\n",
       "      <td>15.0</td>\n",
       "      <td>15.0</td>\n",
       "      <td>9th Grade</td>\n",
       "    </tr>\n",
       "    <tr>\n",
       "      <th>2958</th>\n",
       "      <td>15.0</td>\n",
       "      <td>14.0</td>\n",
       "      <td>9th Grade</td>\n",
       "    </tr>\n",
       "    <tr>\n",
       "      <th>2970</th>\n",
       "      <td>15.0</td>\n",
       "      <td>14.0</td>\n",
       "      <td>10th Grade</td>\n",
       "    </tr>\n",
       "    <tr>\n",
       "      <th>2997</th>\n",
       "      <td>13.0</td>\n",
       "      <td>13.0</td>\n",
       "      <td>10th Grade</td>\n",
       "    </tr>\n",
       "    <tr>\n",
       "      <th>3007</th>\n",
       "      <td>15.0</td>\n",
       "      <td>15.0</td>\n",
       "      <td>11th Grade</td>\n",
       "    </tr>\n",
       "  </tbody>\n",
       "</table>\n",
       "<p>150 rows × 3 columns</p>\n",
       "</div>"
      ],
      "text/plain": [
       "      highest_math_score  first_math_score first_math_grade\n",
       "5                   14.0              14.0       11th Grade\n",
       "14                  15.0              15.0       10th Grade\n",
       "15                  15.0              15.0       10th Grade\n",
       "16                  15.0              15.0       10th Grade\n",
       "17                  15.0              13.0       10th Grade\n",
       "...                  ...               ...              ...\n",
       "2955                15.0              15.0        9th Grade\n",
       "2958                15.0              14.0        9th Grade\n",
       "2970                15.0              14.0       10th Grade\n",
       "2997                13.0              13.0       10th Grade\n",
       "3007                15.0              15.0       11th Grade\n",
       "\n",
       "[150 rows x 3 columns]"
      ]
     },
     "execution_count": 357,
     "metadata": {},
     "output_type": "execute_result"
    }
   ],
   "source": [
    "overall_df_final[overall_df_final.highest_math_score <= 15][['highest_math_score','first_math_score', 'first_math_grade']]"
   ]
  },
  {
   "cell_type": "markdown",
   "metadata": {},
   "source": [
    "### Save output file into processed directory\n",
    "\n",
    "Save a file in the processed directory that is cleaned properly. It will be read in and used later for further analysis."
   ]
  },
  {
   "cell_type": "code",
   "execution_count": 358,
   "metadata": {},
   "outputs": [],
   "source": [
    "# Save File 1 Data Frame (Or master df)\n",
    "ninth_grade.to_pickle(\"../data/processed/ninth_grade.pkl\")\n",
    "tenth_grade.to_pickle(\"../data/processed/tenth_grade.pkl\")\n",
    "eleventh_grade.to_pickle(\"../data/processed/eleventh_grade.pkl\")\n",
    "overall_df_final.to_pickle(\"../data/processed/overall.pkl\")"
   ]
  },
  {
   "cell_type": "code",
   "execution_count": null,
   "metadata": {},
   "outputs": [],
   "source": []
  }
 ],
 "metadata": {
  "hide_input": false,
  "kernelspec": {
   "display_name": "Python 3",
   "language": "python",
   "name": "python3"
  },
  "language_info": {
   "codemirror_mode": {
    "name": "ipython",
    "version": 3
   },
   "file_extension": ".py",
   "mimetype": "text/x-python",
   "name": "python",
   "nbconvert_exporter": "python",
   "pygments_lexer": "ipython3",
   "version": "3.7.3"
  },
  "toc": {
   "base_numbering": 1,
   "nav_menu": {},
   "number_sections": true,
   "sideBar": true,
   "skip_h1_title": false,
   "title_cell": "Table of Contents",
   "title_sidebar": "Contents",
   "toc_cell": false,
   "toc_position": {},
   "toc_section_display": true,
   "toc_window_display": false
  }
 },
 "nbformat": 4,
 "nbformat_minor": 4
}
