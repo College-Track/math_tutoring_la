{
 "cells": [
  {
   "cell_type": "markdown",
   "metadata": {},
   "source": [
    "## math_tutoring_2020\n",
    "\n",
    "Project to determine the impact math and tutoring workshops have on student outcomes.\n",
    "\n",
    "### Data Sources\n",
    "- file1 : Link to SF Report\n",
    "- file2:  Link to SF Report (As Needed)\n",
    "- file3:  Link to SF Report (As Needed)\n",
    "\n",
    "### Changes\n",
    "- 10-07-2020 : Started project"
   ]
  },
  {
   "cell_type": "code",
   "execution_count": 81,
   "metadata": {},
   "outputs": [
    {
     "name": "stdout",
     "output_type": "stream",
     "text": [
      "The dotenv extension is already loaded. To reload it, use:\n",
      "  %reload_ext dotenv\n",
      "cannot find .env file\n"
     ]
    }
   ],
   "source": [
    "# ALWAYS RUN\n",
    "# General Setup \n",
    "\n",
    "%load_ext dotenv\n",
    "%dotenv\n",
    "\n",
    "import pandas as pd\n",
    "from pathlib import Path\n",
    "from datetime import datetime\n",
    "import os\n",
    "import numpy as np\n"
   ]
  },
  {
   "cell_type": "code",
   "execution_count": 2,
   "metadata": {},
   "outputs": [],
   "source": [
    "\n",
    "project_id = \"learning-agendas\"\n",
    "\n"
   ]
  },
  {
   "cell_type": "code",
   "execution_count": 146,
   "metadata": {},
   "outputs": [],
   "source": [
    "\n",
    "# Download data and save to a CSV. If data needs to be refreshed the CSV needs to be deleted.\n",
    "filename = '../data/raw/test_attendance_data.csv'\n",
    "table_name = 'gathered_test_attendance_at_data'\n",
    "\n",
    "if os.path.exists(filename):\n",
    "    # Read from CSV if already written to avoid repeatedly transferring data from BigQuery\n",
    "    df = pd.read_csv(filename)\n",
    "    df = df.drop('Unnamed: 0', axis=1)\n",
    "else:      \n",
    "    query = 'SELECT * FROM `learning-agendas.math_tutoring_2020.' + table_name + '`'\n",
    "    df = pd.read_gbq(query, project_id=project_id)\n",
    "    df.to_csv(filename)"
   ]
  },
  {
   "cell_type": "code",
   "execution_count": 136,
   "metadata": {},
   "outputs": [
    {
     "data": {
      "text/plain": [
       "Index(['Student__c', 'Contact_Id', 'High_School_Class__c', 'AT_Id',\n",
       "       'GPA_semester_cumulative__c', 'HS_11th_Cum_GPA', 'GAS_Name',\n",
       "       'site_short', 'ACT_English_highest_official__c',\n",
       "       'ACT_Highest_Composite_official__c', 'ACT_Math_highest_official__c',\n",
       "       'ACT_Reading_highest_official__c', 'ACT_Superscore_highest_official__c',\n",
       "       'SAT_Highest_Total_single_sitting__c', 'SAT_Math_highest_official__c',\n",
       "       'SAT_Reading_Writing_highest_official__c', 'SAT_SuperScore_Official__c',\n",
       "       'AT_Grade__c', 'student_audit_status__c', 'Start_Date__c', 'AY_Name',\n",
       "       'Attendance_Numerator', 'Attendance_Denominator', 'mod_duration',\n",
       "       'mod_dosage_type', 'Academic_Semester__c', 'Contact_Name__c',\n",
       "       'max_act_composite', 'max_act_math', 'max_act_english',\n",
       "       'max_act_reading', 'max_sat_math', 'max_sat_total', 'max_sat_english'],\n",
       "      dtype='object')"
      ]
     },
     "execution_count": 136,
     "metadata": {},
     "output_type": "execute_result"
    }
   ],
   "source": [
    "df.columns"
   ]
  },
  {
   "cell_type": "code",
   "execution_count": 145,
   "metadata": {},
   "outputs": [
    {
     "name": "stdout",
     "output_type": "stream",
     "text": [
      "Student__c                                 1.000000\n",
      "mod_duration                               1.000000\n",
      "site_short                                 1.000000\n",
      "GAS_Name                                   1.000000\n",
      "AT_Grade__c                                1.000000\n",
      "student_audit_status__c                    1.000000\n",
      "Start_Date__c                              1.000000\n",
      "AY_Name                                    1.000000\n",
      "Attendance_Denominator                     1.000000\n",
      "Attendance_Numerator                       1.000000\n",
      "mod_dosage_type                            1.000000\n",
      "AT_Id                                      1.000000\n",
      "High_School_Class__c                       1.000000\n",
      "Contact_Id                                 1.000000\n",
      "ACT_Highest_Composite_official__c          0.985534\n",
      "HS_11th_Cum_GPA                            0.971196\n",
      "ACT_English_highest_official__c            0.742990\n",
      "ACT_Superscore_highest_official__c         0.742990\n",
      "ACT_Reading_highest_official__c            0.742990\n",
      "ACT_Math_highest_official__c               0.742990\n",
      "GPA_semester_cumulative__c                 0.650650\n",
      "Academic_Semester__c                       0.490377\n",
      "Contact_Name__c                            0.490377\n",
      "max_act_math                               0.415881\n",
      "max_act_english                            0.410655\n",
      "SAT_SuperScore_Official__c                 0.397527\n",
      "SAT_Highest_Total_single_sitting__c        0.397527\n",
      "SAT_Math_highest_official__c               0.397527\n",
      "SAT_Reading_Writing_highest_official__c    0.397527\n",
      "max_act_reading                            0.280206\n",
      "max_act_composite                          0.278741\n",
      "max_sat_total                              0.081825\n",
      "max_sat_math                               0.081825\n",
      "max_sat_english                            0.081825\n"
     ]
    },
    {
     "data": {
      "text/plain": [
       "<AxesSubplot:>"
      ]
     },
     "execution_count": 145,
     "metadata": {},
     "output_type": "execute_result"
    },
    {
     "data": {
      "image/png": "[encoded data removed]",
      "text/plain": [
       "<Figure size 432x288 with 1 Axes>"
      ]
     },
     "metadata": {
      "needs_background": "light"
     },
     "output_type": "display_data"
    }
   ],
   "source": [
    "print((df.notnull().sum()/df.shape[0]).sort_values(ascending=False).to_string())\n",
    "(df.notnull().sum()/df.shape[0]).hist()"
   ]
  },
  {
   "cell_type": "code",
   "execution_count": 39,
   "metadata": {},
   "outputs": [
    {
     "data": {
      "text/plain": [
       "<AxesSubplot:>"
      ]
     },
     "execution_count": 39,
     "metadata": {},
     "output_type": "execute_result"
    },
    {
     "data": {
      "image/png": "[encoded data removed]",
      "text/plain": [
       "<Figure size 432x288 with 1 Axes>"
      ]
     },
     "metadata": {
      "needs_background": "light"
     },
     "output_type": "display_data"
    }
   ],
   "source": [
    "df.max_act_reading.hist()"
   ]
  },
  {
   "cell_type": "code",
   "execution_count": 92,
   "metadata": {},
   "outputs": [],
   "source": [
    "sat_to_act_math = pd.read_csv('../data/raw/sat_to_act_math.csv')\n",
    "sat_to_act_english_reading = pd.read_csv('../data/raw/sat_to_act_english_reading.csv')"
   ]
  },
  {
   "cell_type": "code",
   "execution_count": 113,
   "metadata": {},
   "outputs": [],
   "source": [
    "def convert_sat_to_act(sat_score, conversion_file, act_score):\n",
    "\n",
    "    try: \n",
    "        conversion_score = conversion_file[sat_score >= conversion_file.SAT].reset_index().iloc[0]['ACT']\n",
    "        if pd.isna(act_score):\n",
    "            return conversion_score\n",
    "        elif conversion_score >= act_score:\n",
    "            return conversion_score\n",
    "        else:\n",
    "            return act_score\n",
    "    except:\n",
    "        return act_score\n",
    "     "
   ]
  },
  {
   "cell_type": "code",
   "execution_count": 115,
   "metadata": {},
   "outputs": [],
   "source": [
    "df[\"max_act_english_reading\"] = df.max_act_english + df.max_act_reading"
   ]
  },
  {
   "cell_type": "code",
   "execution_count": 116,
   "metadata": {},
   "outputs": [],
   "source": [
    "df[\"max_converted_math\"] = df.apply(lambda x: convert_sat_to_act(\n",
    "    x['max_sat_math'], sat_to_act_math, x['max_act_math']), axis=1)\n"
   ]
  },
  {
   "cell_type": "code",
   "execution_count": 121,
   "metadata": {},
   "outputs": [],
   "source": [
    "df[\"max_converted_english_reading\"] = df.apply(lambda x: convert_sat_to_act(\n",
    "    x['max_sat_english'], sat_to_act_english_reading, x['max_act_english_reading']), axis=1)\n"
   ]
  },
  {
   "cell_type": "code",
   "execution_count": 128,
   "metadata": {},
   "outputs": [],
   "source": [
    "df[\"max_converted_english\"] = df.apply(lambda x: convert_sat_to_act(\n",
    "    x['max_sat_english'], sat_to_act_math, x['max_act_english']), axis=1)\n"
   ]
  },
  {
   "cell_type": "code",
   "execution_count": 129,
   "metadata": {},
   "outputs": [],
   "source": [
    "df[\"max_converted_reading\"] = df.apply(lambda x: convert_sat_to_act(\n",
    "    x['max_sat_english'], sat_to_act_math, x['max_act_reading']), axis=1)\n"
   ]
  },
  {
   "cell_type": "code",
   "execution_count": 147,
   "metadata": {},
   "outputs": [],
   "source": [
    "df.loc[pd.isna(df.mod_duration), \"mod_duration_filled\"] = df.loc[pd.isna(\n",
    "    df.mod_duration), \"Attendance_Numerator\"] * 60"
   ]
  },
  {
   "cell_type": "code",
   "execution_count": 149,
   "metadata": {},
   "outputs": [],
   "source": [
    "df.loc[~pd.isna(df.mod_duration), \"mod_duration_filled\"] = df.loc[~pd.isna(df.mod_duration), \"mod_duration\"]"
   ]
  },
  {
   "cell_type": "markdown",
   "metadata": {},
   "source": [
    "### Save output file into processed directory\n",
    "\n",
    "Save a file in the processed directory that is cleaned properly. It will be read in and used later for further analysis."
   ]
  },
  {
   "cell_type": "code",
   "execution_count": null,
   "metadata": {},
   "outputs": [],
   "source": [
    "# Save File 1 Data Frame (Or master df)\n",
    "df.to_pickle(summary_file)"
   ]
  }
 ],
 "metadata": {
  "hide_input": false,
  "kernelspec": {
   "display_name": "Python 3",
   "language": "python",
   "name": "python3"
  },
  "language_info": {
   "codemirror_mode": {
    "name": "ipython",
    "version": 3
   },
   "file_extension": ".py",
   "mimetype": "text/x-python",
   "name": "python",
   "nbconvert_exporter": "python",
   "pygments_lexer": "ipython3",
   "version": "3.7.3"
  },
  "toc": {
   "base_numbering": 1,
   "nav_menu": {},
   "number_sections": true,
   "sideBar": true,
   "skip_h1_title": false,
   "title_cell": "Table of Contents",
   "title_sidebar": "Contents",
   "toc_cell": false,
   "toc_position": {},
   "toc_section_display": true,
   "toc_window_display": false
  }
 },
 "nbformat": 4,
 "nbformat_minor": 4
}
